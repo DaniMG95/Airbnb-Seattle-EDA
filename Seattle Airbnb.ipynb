{
 "cells": [
  {
   "cell_type": "markdown",
   "metadata": {},
   "source": [
    "# Seattle AirBNB Data"
   ]
  },
  {
   "cell_type": "markdown",
   "metadata": {},
   "source": [
    "# **Table of Contents**\n",
    "1. [Introduction](#intro)\n",
    "1. [Business Understanding](#business)\n",
    "1. [Analisys Data](#EDA)\n",
    "    1. [Are neighborhoods important in get better housing?](#housing)\n",
    "    1. [What is the evolution of the different types in Airbnb in Seatle?](#evolution)\n",
    "    1. [What is the season of the year which it is more occupied?](#season)\n",
    "1. [Data Preparation](#prepare)\n",
    "1. [Model Data](#model)\n",
    "1. [Conclusion](#conclusion)"
   ]
  },
  {
   "cell_type": "markdown",
   "metadata": {},
   "source": [
    "## **Introduction**\n",
    "<a id=\"intro\"></a>"
   ]
  },
  {
   "cell_type": "markdown",
   "metadata": {},
   "source": [
    "<img src=\"https://www.visittheusa.co/sites/default/files/styles/hero_m_1300x700/public/images/hero_media_image/2017-03/f3d1f001ce1e4f874adc9a88fd9fb095.jpeg?itok=DHjISMr_\">"
   ]
  },
  {
   "cell_type": "markdown",
   "metadata": {},
   "source": [
    "Since 2018, guests and hosts have used Airbnb to travel in a more unique,cheaper and personalized way, so improve the tourism.\n",
    "Airbnb is a company, which offer a software plataform, which permit to people public rent of their houses or properties to other people. This rents are very famous because is cheaper than hotel or motel and best quality/price services.\n",
    "\n",
    "As part of the Airbnb Inside initiative, this dataset describes the listing activity of homestays in Seattle, WA and to try get important information to understand this business and know the position of Seatle in Airbnb.  "
   ]
  },
  {
   "cell_type": "markdown",
   "metadata": {},
   "source": [
    "## **Business Understanding**\n",
    "<a id=\"business\"></a>"
   ]
  },
  {
   "cell_type": "markdown",
   "metadata": {},
   "source": [
    "I take a look of data, I want respond to this four questions, which are very interesting to understand te situation of Airbnb in Seatle. This questions are:\n",
    "\n",
    "1. Are neighborhoods important in get better housing?\n",
    "1. What is the evolution of the different types in Airbnb in Seatle?\n",
    "1. What is the season of the year which it is more occupied?\n",
    "1. How well can we predict an housing of cost? What aspects correlate well to cost?"
   ]
  },
  {
   "cell_type": "markdown",
   "metadata": {},
   "source": [
    "## **Analisys Data**\n",
    "<a id=\"EDA\"></a>"
   ]
  },
  {
   "cell_type": "markdown",
   "metadata": {},
   "source": [
    "To begin with Analisys Data, I need import this libraries and show the differents CSVs which we have to access and answer all preview question."
   ]
  },
  {
   "cell_type": "code",
   "execution_count": null,
   "metadata": {},
   "outputs": [],
   "source": [
    "import numpy as np\n",
    "import pandas as pd\n",
    "import matplotlib.pyplot as plt\n",
    "from sklearn.linear_model import LinearRegression\n",
    "from sklearn.model_selection import train_test_split\n",
    "from sklearn.metrics import r2_score, mean_squared_error\n",
    "import seaborn as sns\n",
    "%matplotlib inline"
   ]
  },
  {
   "cell_type": "markdown",
   "metadata": {},
   "source": [
    "### **Are neighborhoods important in get better housing?**\n",
    "<a id=\"housing\"></a>"
   ]
  },
  {
   "cell_type": "markdown",
   "metadata": {},
   "source": [
    "### **What is the evolution of the different types in Airbnb in Seatle?**\n",
    "<a id=\"evolution\"></a>"
   ]
  },
  {
   "cell_type": "markdown",
   "metadata": {},
   "source": [
    "### **What is the season of the year which it is more occupied?**\n",
    "<a id=\"season\"></a>"
   ]
  },
  {
   "cell_type": "markdown",
   "metadata": {},
   "source": [
    "## **Data Preparation**\n",
    "<a id=\"prepare\"></a>"
   ]
  },
  {
   "cell_type": "code",
   "execution_count": null,
   "metadata": {},
   "outputs": [],
   "source": []
  },
  {
   "cell_type": "markdown",
   "metadata": {},
   "source": [
    "## **Model Data**\n",
    "<a id=\"model\"></a>"
   ]
  },
  {
   "cell_type": "code",
   "execution_count": null,
   "metadata": {},
   "outputs": [],
   "source": []
  },
  {
   "cell_type": "markdown",
   "metadata": {},
   "source": [
    "## **Conclusion**\n",
    "<a id=\"conclusion\"></a>"
   ]
  },
  {
   "cell_type": "code",
   "execution_count": null,
   "metadata": {},
   "outputs": [],
   "source": []
  }
 ],
 "metadata": {
  "kernelspec": {
   "display_name": "Python 3",
   "language": "python",
   "name": "python3"
  },
  "language_info": {
   "codemirror_mode": {
    "name": "ipython",
    "version": 3
   },
   "file_extension": ".py",
   "mimetype": "text/x-python",
   "name": "python",
   "nbconvert_exporter": "python",
   "pygments_lexer": "ipython3",
   "version": "3.7.4"
  }
 },
 "nbformat": 4,
 "nbformat_minor": 4
}
